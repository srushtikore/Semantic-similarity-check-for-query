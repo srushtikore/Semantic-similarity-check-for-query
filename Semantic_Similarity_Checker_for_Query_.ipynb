{
  "nbformat": 4,
  "nbformat_minor": 0,
  "metadata": {
    "colab": {
      "provenance": []
    },
    "kernelspec": {
      "name": "python3",
      "display_name": "Python 3"
    },
    "language_info": {
      "name": "python"
    }
  },
  "cells": [
    {
      "cell_type": "code",
      "execution_count": null,
      "metadata": {
        "id": "IeyKNIsDLDYa"
      },
      "outputs": [],
      "source": [
        "import streamlit as st\n",
        "import ModelSupport\n",
        "import pickle\n",
        "\n",
        "model = pickle.load(open('svc_model.pkl','rb'))\n",
        "\n",
        "st.header('Semantic Similarity Checker for Query Pairs')\n",
        "\n",
        "q1 = st.text_input('Enter Query 1')\n",
        "q2 = st.text_input('Enter Query 2')\n",
        "\n",
        "if st.button('Find'):\n",
        "    query = helper.query_point_creator(q1,q2)\n",
        "    result = model.predict(query)[0]\n",
        "\n",
        "    if result:\n",
        "        st.header('Similar')\n",
        "    else:\n",
        "        st.header('Not Similar')"
      ]
    }
  ]
}